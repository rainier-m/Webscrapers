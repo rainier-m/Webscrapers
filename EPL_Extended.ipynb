{
 "cells": [
  {
   "cell_type": "code",
   "execution_count": 3,
   "metadata": {
    "pycharm": {
     "name": "#%%\n"
    }
   },
   "outputs": [],
   "source": [
    "import requests\n",
    "import pandas as pd\n",
    "import numpy as np\n",
    "import matplotlib \n",
    "import datetime\n",
    "from sportmonks.soccer import SoccerApiV2\n",
    "\n",
    "soccer = SoccerApiV2(api_token='TCin2HdM9TeK5gM3eu8a4AGjpdz4kkewAZjJC6VfCxtUr632CWazGmj09LFn')\n",
    "\n",
    "fixtures = soccer.fixtures_today(includes=('localTeam', 'visitorTeam'))\n",
    "for f in fixtures:\n",
    "    print(f['localTeam']['name'], 'plays at home against', f['visitorTeam']['name'])"
   ]
  },
  {
   "cell_type": "code",
   "execution_count": null,
   "metadata": {
    "pycharm": {
     "name": "#%%\n"
    }
   },
   "outputs": [],
   "source": []
  }
 ],
 "metadata": {
  "kernelspec": {
   "display_name": "Python 3 (ipykernel)",
   "language": "python",
   "name": "python3"
  },
  "language_info": {
   "codemirror_mode": {
    "name": "ipython",
    "version": 3
   },
   "file_extension": ".py",
   "mimetype": "text/x-python",
   "name": "python",
   "nbconvert_exporter": "python",
   "pygments_lexer": "ipython3",
   "version": "3.9.13"
  }
 },
 "nbformat": 4,
 "nbformat_minor": 1
}
